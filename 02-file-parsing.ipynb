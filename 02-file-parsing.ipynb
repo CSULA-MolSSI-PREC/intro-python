{
 "cells": [
  {
   "attachments": {},
   "cell_type": "markdown",
   "metadata": {},
   "source": [
    "<div style=\"text-align:center;\">\n",
    "  <img src=\"images/molssi_main_horizontal.png\" style=\"display: block; margin: 0 auto; max-height:200px;\">\n",
    "</div>\n",
    "\n",
    "# Reading Information from Files (File Parsing)\n",
    "<div class=\"alert alert-block alert-info\">\n",
    "\n",
    "<strong>Questions:</strong>\n",
    "<ul>\n",
    "    <li>How can I use Python to read text files?</li>\n",
    "    <li>How do I sort through all the information in a text file and extract particular pieces of information?</li>\n",
    "</ul>\n",
    "\n",
    "<strong>Objectives:</strong>\n",
    "<ul>\n",
    "    <li>Open a file and read in its contents line by line.</li>\n",
    "    <li>Search for a particular string in a file.</li>\n",
    "    <li>Manipulate strings and change data types.</li>\n",
    "</ul>\n",
    "</div>\n",
    "\n",
    "\n",
    "## Working with files\n",
    "\n",
    "One of the most common tasks in research is analyzing data.\n",
    "Many computational chemistry programs output text files that include a large amount of information including text and data that you need to analyze. Often, you need to sort through the output file and identify particular pieces of information that are most important to you. \n",
    "In general, this is called file parsing.\n",
    "\n",
    "## The `os` library\n",
    "\n",
    "For this section, we will be working with the file `ethanol.out` in the `data/outfiles` directory.\n",
    "\n",
    "To work with file locations, we will use a Python library called `os`.\n",
    "In Python, we a lot of the functionalities are obtained through imported libraries.\n",
    "The `os` library has functions we can use that are related to our operating system. \n",
    "We will use it to look at the files in a folder.\n",
    "\n",
    "To use a library, we first have to import it.\n",
    "The syntax for this is\n",
    "\n",
    "```python\n",
    "import library_name\n",
    "```\n",
    "We can import the `os` library."
   ]
  },
  {
   "cell_type": "code",
   "execution_count": 2,
   "metadata": {},
   "outputs": [],
   "source": [
    "import os"
   ]
  },
  {
   "attachments": {},
   "cell_type": "markdown",
   "metadata": {},
   "source": [
    "To use functions that are part of the `os` library, we do `os.function_name`. \n",
    "To see what folder your notebook is in, type:\n",
    "\n",
    "```python\n",
    "print(os.getcwd())\n",
    "```\n",
    "\n",
    "You can see what other files are in the same folder by using the `os.listdir` function.\n",
    "\n",
    "```python\n",
    "print(os.listdir())\n",
    "```\n",
    "\n",
    "Once you do this, you should see a folder called `data`. We can see what is in the data folder by using the `os.listdir` function. "
   ]
  },
  {
   "cell_type": "code",
   "execution_count": null,
   "metadata": {},
   "outputs": [],
   "source": [
    "print(os.listdir(\"data\"))"
   ]
  },
  {
   "attachments": {},
   "cell_type": "markdown",
   "metadata": {},
   "source": [
    "The file we will be working with is in the `outfiles` folder and is `ethanol.out`. We will pull a piece of information (the energy) from this file.\n",
    "\n",
    "We will open the file in the next step, but first, we have to tell Python where the file is.\n",
    "We will create a variable called `ethanol_file` that contains a string that tells Python where the file is. \n",
    "This string will have folder names and file names separated by forward slashes (`/`) and is called a \"file path\". \n",
    "When deciding your file path, you can think about what you would tell someone to click in order to find the file."
   ]
  },
  {
   "cell_type": "code",
   "execution_count": null,
   "metadata": {},
   "outputs": [],
   "source": [
    "ethanol_file = \"data/outfiles/ethanol.out\"\n",
    "print(ethanol_file)"
   ]
  },
  {
   "attachments": {},
   "cell_type": "markdown",
   "metadata": {},
   "source": [
    "Notice that this doesn't check that the file actually exists, so make sure you type it correctly!\n",
    "\n",
    "## Reading a file\n",
    "\n",
    "In Python, there are many ways to read in information from a text file. \n",
    "The best method to use depends on the type of data and the type of analysis you are performing. \n",
    "We will use the `open` function to open the file, and another function called `readlines` to pull information out of the file.\n",
    "If you have a file with lots of different types of information, text and numbers, with different types of formatting, the most generic way to read in information is the `read` or `readlines` function. \n",
    "Before you can read in a file, you have to open the file using the file path we defined above. \n",
    "This will create a file object, or filehandle. The file we will be analyzing in this example is a Psi4 output file for a SCF/cc-pVDZ energy calculation for an ethanol molecule.\n",
    "\n",
    "In Python, when we use the `open` function, the syntax is\n",
    "\n",
    "```python\n",
    "with open(filename, open_mode) as variable:\n",
    "    # read the file\n",
    "    data = variable.readlines()\n",
    "```\n",
    "\n",
    "In the `open` function, we specify the file we want to open as the first argument to the function (`filename` above), followed by the opening mode. The `\"r\"` specifies that we want to read the file.\n",
    "\n",
    "Next, we use the `readlines` function. This pulls all of the information from the file into a `list`. \n",
    "Each element in the list is a line in the list. "
   ]
  },
  {
   "cell_type": "code",
   "execution_count": 6,
   "metadata": {},
   "outputs": [],
   "source": [
    "with open(ethanol_file, \"r\") as outfile:\n",
    "    data = outfile.readlines()"
   ]
  },
  {
   "cell_type": "code",
   "execution_count": null,
   "metadata": {},
   "outputs": [],
   "source": []
  },
  {
   "attachments": {},
   "cell_type": "markdown",
   "metadata": {},
   "source": [
    "<div class=\"alert alert-block alert-warning\">\n",
    "\n",
    "<strong>Check Your Understanding</strong>\n",
    "\n",
    "Check that your file was read in correctly by determining how many lines are in the file.\n",
    "\n",
    "</div>"
   ]
  },
  {
   "cell_type": "code",
   "execution_count": null,
   "metadata": {},
   "outputs": [],
   "source": [
    "# Your solution here!"
   ]
  },
  {
   "cell_type": "markdown",
   "metadata": {},
   "source": [
    "\n",
    "## Searching for a pattern in your file\n",
    "\n",
    "The file we opened is an output file which calculates the energy (and a lot of other stuff!) for an ethanol molecule. As stated previously, the readlines() function put the file contents into a list where each element is a line of the file. You may remember from lesson 1 that a for loops can be used to execute the same code repeatedly. As we learned in the previous lesson, we can use a for loop to iterate through elements in a list.\n",
    "\n",
    "Let’s take a look at what’s in the file.\n"
   ]
  },
  {
   "cell_type": "code",
   "execution_count": null,
   "metadata": {},
   "outputs": [],
   "source": [
    "for line in data:\n",
    "    print(line)"
   ]
  },
  {
   "cell_type": "markdown",
   "metadata": {},
   "source": [
    "This will print exactly what is in the file.\n",
    "\n",
    "If you look through the output, you will see that the critical line says “Final Energy”. We want to search through this file and find that line, and print only that line. We can do this using an if statement.\n",
    "\n",
    "Returning to our file example,"
   ]
  },
  {
   "cell_type": "code",
   "execution_count": null,
   "metadata": {},
   "outputs": [],
   "source": [
    "for line in data:\n",
    "    if 'Final Energy' in line:\n",
    "        energy_line = line\n",
    "        print(energy_line)\n"
   ]
  },
  {
   "attachments": {},
   "cell_type": "markdown",
   "metadata": {},
   "source": [
    "Remember that `readlines()` saves each line of the file as a string, so `energy_line` is a string that contains the whole line. \n",
    "For our analysis, if we are most interested in the energy, we need to split up the line so we can save just the number as a different variable name. \n",
    "To do this, we use a new function called `split`. \n",
    "The `split` function takes a string and divides it into its components using a delimiter.\n",
    "\n",
    "The delimiter is specified as an argument to the function (put in the parenthesis ()). If you do not specify a delimiter, a space is used by default. Let’s try this out."
   ]
  },
  {
   "cell_type": "code",
   "execution_count": null,
   "metadata": {},
   "outputs": [],
   "source": [
    "energy_line.split()"
   ]
  },
  {
   "attachments": {},
   "cell_type": "markdown",
   "metadata": {},
   "source": [
    "Or, we an use the colon (`:`) as the delimiter."
   ]
  },
  {
   "cell_type": "code",
   "execution_count": null,
   "metadata": {},
   "outputs": [],
   "source": [
    "energy_line.split(':')"
   ]
  },
  {
   "attachments": {},
   "cell_type": "markdown",
   "metadata": {},
   "source": [
    "When we use ‘:’ as the delimiter, a list with two elements is returned. It is split where a colon was found.\n",
    "\n",
    "We can save the output of this function to a variable as a new list. In the example below, we take the line we found in the `for` loop and split it up into its individual words."
   ]
  },
  {
   "cell_type": "code",
   "execution_count": null,
   "metadata": {},
   "outputs": [],
   "source": [
    "words = energy_line.split()\n",
    "print(words)"
   ]
  },
  {
   "attachments": {},
   "cell_type": "markdown",
   "metadata": {},
   "source": [
    "From this `print` statement, we now see that we have a list called `words`, where we have split `energy_line`. The energy is actually the fourth element of this list, so we can now save it as a new variable."
   ]
  },
  {
   "cell_type": "code",
   "execution_count": null,
   "metadata": {},
   "outputs": [],
   "source": [
    "energy = words[3]\n",
    "print(energy)"
   ]
  },
  {
   "attachments": {},
   "cell_type": "markdown",
   "metadata": {},
   "source": [
    "\n",
    "<div class=\"alert alert-block alert-success\">\n",
    "\n",
    "<strong>Python negative indexing</strong>\n",
    "\n",
    "\n",
    "We also recognize that the energy is the last element of the list. In Python, we can count backwards from the end of the list by using negative numbers. Therefore, an alternative way to assign energy is\n",
    "\n",
    "```python\n",
    "energy = words[-1]\n",
    "```\n",
    "</div>\n"
   ]
  },
  {
   "attachments": {},
   "cell_type": "markdown",
   "metadata": {},
   "source": [
    "If we now try to do a math operation on energy, we get an error message.\n",
    "Why do you think that is?"
   ]
  },
  {
   "cell_type": "code",
   "execution_count": null,
   "metadata": {},
   "outputs": [],
   "source": [
    "energy + 50"
   ]
  },
  {
   "attachments": {},
   "cell_type": "markdown",
   "metadata": {},
   "source": [
    "Even though energy looks like a number to us, it is really a string, so we can not add an integer to it. We need to change the data type of energy to a float. This is called casting."
   ]
  },
  {
   "cell_type": "code",
   "execution_count": 11,
   "metadata": {},
   "outputs": [],
   "source": [
    "energy = float(energy)"
   ]
  },
  {
   "attachments": {},
   "cell_type": "markdown",
   "metadata": {},
   "source": [
    "Now our math operation will work. If we thought ahead, we could have changed the data type when we assigned the variable originally."
   ]
  },
  {
   "cell_type": "code",
   "execution_count": 12,
   "metadata": {},
   "outputs": [],
   "source": [
    "energy = float(words[3])"
   ]
  },
  {
   "cell_type": "markdown",
   "metadata": {},
   "source": [
    "## Your Turn\n",
    "\n",
    "<div class=\"alert alert-block alert-warning\">\n",
    "    <strong>Exercise on File Parsing:</strong>\n",
    "    <p>\n",
    "        The file <code>03_Prod.mdout</code> is an output file from an Amber molecular dynamics simulation.\n",
    "        Read in the file, and pull out all of the total energy values (<code>Etot</code>). Save the values in a list (don't forget to cast them to floating point numbers!).\n",
    "    </p>\n",
    "</div>"
   ]
  },
  {
   "cell_type": "code",
   "execution_count": null,
   "metadata": {},
   "outputs": [],
   "source": []
  },
  {
   "cell_type": "code",
   "execution_count": null,
   "metadata": {},
   "outputs": [],
   "source": []
  },
  {
   "cell_type": "code",
   "execution_count": null,
   "metadata": {},
   "outputs": [],
   "source": []
  },
  {
   "cell_type": "code",
   "execution_count": null,
   "metadata": {},
   "outputs": [],
   "source": []
  },
  {
   "attachments": {},
   "cell_type": "markdown",
   "metadata": {},
   "source": [
    "<div class=\"alert alert-block alert-success\">\n",
    "    <strong>Key Points:</strong>\n",
    "    <ul>\n",
    "        <li>Files have locations called file paths that tell a computer where the file is saved.</li>\n",
    "        <li>To open a file, use <code>with open(filename)</code>.</li>\n",
    "        <li>Get contents of a text file in a variable using <code>readlines</code>.</li>\n",
    "        <li>You can search through the lines in your file by using a <code>for</code> loop to go through each line and an <code>if</code> statement to look for a pattern.</li>\n",
    "    </ul>\n",
    "</div>\n"
   ]
  },
  {
   "cell_type": "markdown",
   "metadata": {},
   "source": []
  }
 ],
 "metadata": {
  "kernelspec": {
   "display_name": "faculty_fellows",
   "language": "python",
   "name": "python3"
  },
  "language_info": {
   "codemirror_mode": {
    "name": "ipython",
    "version": 3
   },
   "file_extension": ".py",
   "mimetype": "text/x-python",
   "name": "python",
   "nbconvert_exporter": "python",
   "pygments_lexer": "ipython3",
   "version": "3.12.3"
  },
  "orig_nbformat": 4
 },
 "nbformat": 4,
 "nbformat_minor": 2
}
